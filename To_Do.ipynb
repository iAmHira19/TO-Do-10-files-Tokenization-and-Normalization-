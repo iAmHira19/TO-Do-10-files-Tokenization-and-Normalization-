{
  "nbformat": 4,
  "nbformat_minor": 0,
  "metadata": {
    "colab": {
      "provenance": [],
      "authorship_tag": "ABX9TyO10aafd6yTp4F42Ax32Gt/",
      "include_colab_link": true
    },
    "kernelspec": {
      "name": "python3",
      "display_name": "Python 3"
    },
    "language_info": {
      "name": "python"
    }
  },
  "cells": [
    {
      "cell_type": "markdown",
      "metadata": {
        "id": "view-in-github",
        "colab_type": "text"
      },
      "source": [
        "<a href=\"https://colab.research.google.com/github/iAmHira19/TO-Do-10-files-Tokenization-and-Normalization-/blob/main/To_Do.ipynb\" target=\"_parent\"><img src=\"https://colab.research.google.com/assets/colab-badge.svg\" alt=\"Open In Colab\"/></a>"
      ]
    },
    {
      "cell_type": "code",
      "execution_count": 3,
      "metadata": {
        "colab": {
          "base_uri": "https://localhost:8080/",
          "height": 659
        },
        "id": "IH5OFSEHcfHZ",
        "outputId": "ba75e64d-9ad7-4d1c-9b8d-ac0ba3302b66"
      },
      "outputs": [
        {
          "output_type": "stream",
          "name": "stdout",
          "text": [
            "10 files created in the 'generated_files' directory.\n",
            "\n",
            "Processing generated_files/file_1.txt:\n",
            "Tokens: ['first', 'sentence', 'second', 'sentence']\n",
            "\n",
            "Processing generated_files/file_2.txt:\n",
            "Tokens: ['python', 'powerful', 'programming', 'language', 'widely', 'used', 'data', 'science']\n",
            "\n",
            "Processing generated_files/file_3.txt:\n",
            "Tokens: ['artificial', 'intelligence', 'future', 'machine', 'learning', 'subset', 'ai']\n",
            "\n",
            "Processing generated_files/file_4.txt:\n",
            "Tokens: ['data', 'analysis', 'crucial', 'help', 'making', 'better', 'decision']\n",
            "\n",
            "Processing generated_files/file_5.txt:\n",
            "Tokens: ['google', 'colab', 'great', 'experiment', 'provides', 'free', 'computing', 'resource']\n",
            "\n",
            "Processing generated_files/file_6.txt:\n",
            "Tokens: ['tokenization', 'important', 'nlp', 'task', 'normalization', 'help', 'standardize', 'data']\n",
            "\n",
            "Processing generated_files/file_7.txt:\n",
            "Tokens: ['sky', 'blue', 'sun', 'rise', 'east']\n",
            "\n",
            "Processing generated_files/file_8.txt:\n",
            "Tokens: ['love', 'programming', 'coding', 'challenge', 'fun']\n",
            "\n",
            "Processing generated_files/file_9.txt:\n",
            "Tokens: ['reading', 'book', 'expands', 'knowledge', 'continuous', 'learning', 'essential']\n",
            "\n",
            "Processing generated_files/file_10.txt:\n",
            "Tokens: ['exercise', 'good', 'health', 'balanced', 'diet', 'also', 'important']\n"
          ]
        },
        {
          "output_type": "stream",
          "name": "stderr",
          "text": [
            "[nltk_data] Downloading package punkt to /root/nltk_data...\n",
            "[nltk_data]   Package punkt is already up-to-date!\n",
            "[nltk_data] Downloading package stopwords to /root/nltk_data...\n",
            "[nltk_data]   Package stopwords is already up-to-date!\n",
            "[nltk_data] Downloading package wordnet to /root/nltk_data...\n",
            "[nltk_data]   Package wordnet is already up-to-date!\n"
          ]
        },
        {
          "output_type": "display_data",
          "data": {
            "text/plain": [
              "<IPython.core.display.Javascript object>"
            ],
            "application/javascript": [
              "\n",
              "    async function download(id, filename, size) {\n",
              "      if (!google.colab.kernel.accessAllowed) {\n",
              "        return;\n",
              "      }\n",
              "      const div = document.createElement('div');\n",
              "      const label = document.createElement('label');\n",
              "      label.textContent = `Downloading \"${filename}\": `;\n",
              "      div.appendChild(label);\n",
              "      const progress = document.createElement('progress');\n",
              "      progress.max = size;\n",
              "      div.appendChild(progress);\n",
              "      document.body.appendChild(div);\n",
              "\n",
              "      const buffers = [];\n",
              "      let downloaded = 0;\n",
              "\n",
              "      const channel = await google.colab.kernel.comms.open(id);\n",
              "      // Send a message to notify the kernel that we're ready.\n",
              "      channel.send({})\n",
              "\n",
              "      for await (const message of channel.messages) {\n",
              "        // Send a message to notify the kernel that we're ready.\n",
              "        channel.send({})\n",
              "        if (message.buffers) {\n",
              "          for (const buffer of message.buffers) {\n",
              "            buffers.push(buffer);\n",
              "            downloaded += buffer.byteLength;\n",
              "            progress.value = downloaded;\n",
              "          }\n",
              "        }\n",
              "      }\n",
              "      const blob = new Blob(buffers, {type: 'application/binary'});\n",
              "      const a = document.createElement('a');\n",
              "      a.href = window.URL.createObjectURL(blob);\n",
              "      a.download = filename;\n",
              "      div.appendChild(a);\n",
              "      a.click();\n",
              "      div.remove();\n",
              "    }\n",
              "  "
            ]
          },
          "metadata": {}
        },
        {
          "output_type": "display_data",
          "data": {
            "text/plain": [
              "<IPython.core.display.Javascript object>"
            ],
            "application/javascript": [
              "download(\"download_10714877-0035-4075-96e8-279d641e275a\", \"generated_files.zip\", 1576)"
            ]
          },
          "metadata": {}
        }
      ],
      "source": [
        "import os\n",
        "import nltk\n",
        "from nltk.tokenize import word_tokenize\n",
        "from nltk.corpus import stopwords\n",
        "from nltk.stem import WordNetLemmatizer\n",
        "import string\n",
        "import shutil\n",
        "from google.colab import files\n",
        "\n",
        "# Download necessary NLTK data\n",
        "nltk.download('punkt')\n",
        "nltk.download('stopwords')\n",
        "nltk.download('wordnet')\n",
        "\n",
        "# Create a directory to store files\n",
        "directory = \"generated_files\"\n",
        "os.makedirs(directory, exist_ok=True)\n",
        "\n",
        "# Sentences to write in each file\n",
        "sentences = [\n",
        "    \"This is the first sentence. Here is the second sentence.\",\n",
        "    \"Python is a powerful programming language. It is widely used in data science.\",\n",
        "    \"Artificial Intelligence is the future. Machine learning is a subset of AI.\",\n",
        "    \"Data analysis is crucial. It helps in making better decisions.\",\n",
        "    \"Google Colab is great for experiments. It provides free computing resources.\",\n",
        "    \"Tokenization is important for NLP tasks. Normalization helps standardize data.\",\n",
        "    \"The sky is blue. The sun rises in the east.\",\n",
        "    \"I love programming. Coding challenges can be fun.\",\n",
        "    \"Reading books expands knowledge. Continuous learning is essential.\",\n",
        "    \"Exercise is good for health. A balanced diet is also important.\"\n",
        "]\n",
        "\n",
        "# Generate 10 files with two sentences each\n",
        "for i in range(1, 11):\n",
        "    filename = os.path.join(directory, f\"file_{i}.txt\")\n",
        "    with open(filename, \"w\") as f:\n",
        "        f.write(sentences[i-1])\n",
        "\n",
        "print(f\"10 files created in the '{directory}' directory.\")\n",
        "\n",
        "# Initialize the lemmatizer\n",
        "lemmatizer = WordNetLemmatizer()\n",
        "\n",
        "# Function to tokenize and normalize text\n",
        "def process_text(text):\n",
        "    # Tokenize words\n",
        "    words = word_tokenize(text)\n",
        "\n",
        "    # Convert to lowercase\n",
        "    words = [word.lower() for word in words]\n",
        "\n",
        "    # Remove punctuation\n",
        "    words = [word for word in words if word not in string.punctuation]\n",
        "\n",
        "    # Remove stopwords\n",
        "    stop_words = set(stopwords.words('english'))\n",
        "    words = [word for word in words if word not in stop_words]\n",
        "\n",
        "    # Lemmatize words\n",
        "    words = [lemmatizer.lemmatize(word) for word in words]\n",
        "\n",
        "    return words\n",
        "\n",
        "# Process each file and print tokenized and normalized output\n",
        "for i in range(1, 11):\n",
        "    filename = os.path.join(directory, f\"file_{i}.txt\")\n",
        "    with open(filename, \"r\") as f:\n",
        "        content = f.read()\n",
        "        print(f\"\\nProcessing {filename}:\")\n",
        "        tokens = process_text(content)\n",
        "        print(f\"Tokens: {tokens}\")\n",
        "\n",
        "# Zip the generated_files directory\n",
        "shutil.make_archive('generated_files', 'zip', 'generated_files')\n",
        "\n",
        "# Download the zip file\n",
        "files.download('generated_files.zip')\n"
      ]
    }
  ]
}